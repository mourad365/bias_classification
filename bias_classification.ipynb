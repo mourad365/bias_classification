{
  "nbformat": 4,
  "nbformat_minor": 0,
  "metadata": {
    "colab": {
      "provenance": [],
      "gpuType": "T4"
    },
    "kernelspec": {
      "name": "python3",
      "display_name": "Python 3"
    },
    "language_info": {
      "name": "python"
    },
    "accelerator": "GPU"
  },
  "cells": [
    {
      "cell_type": "code",
      "execution_count": null,
      "metadata": {
        "id": "1qBT5SRa3jtN"
      },
      "outputs": [],
      "source": [
        "import pandas as pd\n",
        "import numpy as np\n",
        "import nltk\n",
        "from nltk.corpus import stopwords\n",
        "from nltk.tokenize import word_tokenize\n",
        "from nltk.stem import PorterStemmer\n",
        "from sklearn.model_selection import train_test_split\n",
        "from keras.preprocessing.text import Tokenizer\n",
        "from keras.preprocessing.sequence import pad_sequences\n",
        "from keras.models import Sequential\n",
        "from keras.layers import Embedding, LSTM, Dense\n",
        "from keras.callbacks import ModelCheckpoint\n",
        "import tensorflow as tf\n",
        "from transformers import BertTokenizer, TFBertModel\n",
        "from sklearn.model_selection import train_test_split\n",
        "from tensorflow.keras.layers import Dense, LSTM\n",
        "from tensorflow.keras.models import Model\n",
        "from tensorflow.keras.callbacks import ModelCheckpoint\n",
        "import string\n",
        "from transformers import AutoTokenizer, AutoModelForSequenceClassification"
      ]
    },
    {
      "cell_type": "code",
      "source": [
        "df = pd.read_csv(\"/content/drive/MyDrive/israel-palestine/reddit_comments_clean.csv\")\n",
        "df.head()"
      ],
      "metadata": {
        "colab": {
          "base_uri": "https://localhost:8080/",
          "height": 206
        },
        "id": "Iz2Ub1MHcACD",
        "outputId": "af2bb66e-633e-4e45-cc1d-b763bdd2b1e6"
      },
      "execution_count": null,
      "outputs": [
        {
          "output_type": "execute_result",
          "data": {
            "text/plain": [
              "   post_id       id           label  \\\n",
              "0  175au9w  k4efycz         neutral   \n",
              "1  175au9w  k4eg0gi  with palestine   \n",
              "2  175au9w  k4ees0u  with palestine   \n",
              "3  175au9w  k4eke8z     with israel   \n",
              "4  175au9w  k4eipaq     with israel   \n",
              "\n",
              "                                                text            timestamp  \\\n",
              "0  Israel pulled out of Gaza in 2005 so the 2010 ...  2023-10-11 11:56:11   \n",
              "1  The 1946 map should be completely red as the w...  2023-10-11 11:56:49   \n",
              "2  To be fair. You should count 1947 as the first...  2023-10-11 11:43:13   \n",
              "3  No. Each map is depicting something different....  2023-10-11 12:41:04   \n",
              "4  A history of Israel over the last 100 years, i...  2023-10-11 12:24:44   \n",
              "\n",
              "    ups  \n",
              "0  1411  \n",
              "1   833  \n",
              "2   457  \n",
              "3   217  \n",
              "4   168  "
            ],
            "text/html": [
              "\n",
              "  <div id=\"df-cdf041ae-626e-47d1-b447-fd9c6f089cd2\" class=\"colab-df-container\">\n",
              "    <div>\n",
              "<style scoped>\n",
              "    .dataframe tbody tr th:only-of-type {\n",
              "        vertical-align: middle;\n",
              "    }\n",
              "\n",
              "    .dataframe tbody tr th {\n",
              "        vertical-align: top;\n",
              "    }\n",
              "\n",
              "    .dataframe thead th {\n",
              "        text-align: right;\n",
              "    }\n",
              "</style>\n",
              "<table border=\"1\" class=\"dataframe\">\n",
              "  <thead>\n",
              "    <tr style=\"text-align: right;\">\n",
              "      <th></th>\n",
              "      <th>post_id</th>\n",
              "      <th>id</th>\n",
              "      <th>label</th>\n",
              "      <th>text</th>\n",
              "      <th>timestamp</th>\n",
              "      <th>ups</th>\n",
              "    </tr>\n",
              "  </thead>\n",
              "  <tbody>\n",
              "    <tr>\n",
              "      <th>0</th>\n",
              "      <td>175au9w</td>\n",
              "      <td>k4efycz</td>\n",
              "      <td>neutral</td>\n",
              "      <td>Israel pulled out of Gaza in 2005 so the 2010 ...</td>\n",
              "      <td>2023-10-11 11:56:11</td>\n",
              "      <td>1411</td>\n",
              "    </tr>\n",
              "    <tr>\n",
              "      <th>1</th>\n",
              "      <td>175au9w</td>\n",
              "      <td>k4eg0gi</td>\n",
              "      <td>with palestine</td>\n",
              "      <td>The 1946 map should be completely red as the w...</td>\n",
              "      <td>2023-10-11 11:56:49</td>\n",
              "      <td>833</td>\n",
              "    </tr>\n",
              "    <tr>\n",
              "      <th>2</th>\n",
              "      <td>175au9w</td>\n",
              "      <td>k4ees0u</td>\n",
              "      <td>with palestine</td>\n",
              "      <td>To be fair. You should count 1947 as the first...</td>\n",
              "      <td>2023-10-11 11:43:13</td>\n",
              "      <td>457</td>\n",
              "    </tr>\n",
              "    <tr>\n",
              "      <th>3</th>\n",
              "      <td>175au9w</td>\n",
              "      <td>k4eke8z</td>\n",
              "      <td>with israel</td>\n",
              "      <td>No. Each map is depicting something different....</td>\n",
              "      <td>2023-10-11 12:41:04</td>\n",
              "      <td>217</td>\n",
              "    </tr>\n",
              "    <tr>\n",
              "      <th>4</th>\n",
              "      <td>175au9w</td>\n",
              "      <td>k4eipaq</td>\n",
              "      <td>with israel</td>\n",
              "      <td>A history of Israel over the last 100 years, i...</td>\n",
              "      <td>2023-10-11 12:24:44</td>\n",
              "      <td>168</td>\n",
              "    </tr>\n",
              "  </tbody>\n",
              "</table>\n",
              "</div>\n",
              "    <div class=\"colab-df-buttons\">\n",
              "\n",
              "  <div class=\"colab-df-container\">\n",
              "    <button class=\"colab-df-convert\" onclick=\"convertToInteractive('df-cdf041ae-626e-47d1-b447-fd9c6f089cd2')\"\n",
              "            title=\"Convert this dataframe to an interactive table.\"\n",
              "            style=\"display:none;\">\n",
              "\n",
              "  <svg xmlns=\"http://www.w3.org/2000/svg\" height=\"24px\" viewBox=\"0 -960 960 960\">\n",
              "    <path d=\"M120-120v-720h720v720H120Zm60-500h600v-160H180v160Zm220 220h160v-160H400v160Zm0 220h160v-160H400v160ZM180-400h160v-160H180v160Zm440 0h160v-160H620v160ZM180-180h160v-160H180v160Zm440 0h160v-160H620v160Z\"/>\n",
              "  </svg>\n",
              "    </button>\n",
              "\n",
              "  <style>\n",
              "    .colab-df-container {\n",
              "      display:flex;\n",
              "      gap: 12px;\n",
              "    }\n",
              "\n",
              "    .colab-df-convert {\n",
              "      background-color: #E8F0FE;\n",
              "      border: none;\n",
              "      border-radius: 50%;\n",
              "      cursor: pointer;\n",
              "      display: none;\n",
              "      fill: #1967D2;\n",
              "      height: 32px;\n",
              "      padding: 0 0 0 0;\n",
              "      width: 32px;\n",
              "    }\n",
              "\n",
              "    .colab-df-convert:hover {\n",
              "      background-color: #E2EBFA;\n",
              "      box-shadow: 0px 1px 2px rgba(60, 64, 67, 0.3), 0px 1px 3px 1px rgba(60, 64, 67, 0.15);\n",
              "      fill: #174EA6;\n",
              "    }\n",
              "\n",
              "    .colab-df-buttons div {\n",
              "      margin-bottom: 4px;\n",
              "    }\n",
              "\n",
              "    [theme=dark] .colab-df-convert {\n",
              "      background-color: #3B4455;\n",
              "      fill: #D2E3FC;\n",
              "    }\n",
              "\n",
              "    [theme=dark] .colab-df-convert:hover {\n",
              "      background-color: #434B5C;\n",
              "      box-shadow: 0px 1px 3px 1px rgba(0, 0, 0, 0.15);\n",
              "      filter: drop-shadow(0px 1px 2px rgba(0, 0, 0, 0.3));\n",
              "      fill: #FFFFFF;\n",
              "    }\n",
              "  </style>\n",
              "\n",
              "    <script>\n",
              "      const buttonEl =\n",
              "        document.querySelector('#df-cdf041ae-626e-47d1-b447-fd9c6f089cd2 button.colab-df-convert');\n",
              "      buttonEl.style.display =\n",
              "        google.colab.kernel.accessAllowed ? 'block' : 'none';\n",
              "\n",
              "      async function convertToInteractive(key) {\n",
              "        const element = document.querySelector('#df-cdf041ae-626e-47d1-b447-fd9c6f089cd2');\n",
              "        const dataTable =\n",
              "          await google.colab.kernel.invokeFunction('convertToInteractive',\n",
              "                                                    [key], {});\n",
              "        if (!dataTable) return;\n",
              "\n",
              "        const docLinkHtml = 'Like what you see? Visit the ' +\n",
              "          '<a target=\"_blank\" href=https://colab.research.google.com/notebooks/data_table.ipynb>data table notebook</a>'\n",
              "          + ' to learn more about interactive tables.';\n",
              "        element.innerHTML = '';\n",
              "        dataTable['output_type'] = 'display_data';\n",
              "        await google.colab.output.renderOutput(dataTable, element);\n",
              "        const docLink = document.createElement('div');\n",
              "        docLink.innerHTML = docLinkHtml;\n",
              "        element.appendChild(docLink);\n",
              "      }\n",
              "    </script>\n",
              "  </div>\n",
              "\n",
              "\n",
              "<div id=\"df-e6c0f4be-e15f-459f-b099-eac1c5930b70\">\n",
              "  <button class=\"colab-df-quickchart\" onclick=\"quickchart('df-e6c0f4be-e15f-459f-b099-eac1c5930b70')\"\n",
              "            title=\"Suggest charts\"\n",
              "            style=\"display:none;\">\n",
              "\n",
              "<svg xmlns=\"http://www.w3.org/2000/svg\" height=\"24px\"viewBox=\"0 0 24 24\"\n",
              "     width=\"24px\">\n",
              "    <g>\n",
              "        <path d=\"M19 3H5c-1.1 0-2 .9-2 2v14c0 1.1.9 2 2 2h14c1.1 0 2-.9 2-2V5c0-1.1-.9-2-2-2zM9 17H7v-7h2v7zm4 0h-2V7h2v10zm4 0h-2v-4h2v4z\"/>\n",
              "    </g>\n",
              "</svg>\n",
              "  </button>\n",
              "\n",
              "<style>\n",
              "  .colab-df-quickchart {\n",
              "      --bg-color: #E8F0FE;\n",
              "      --fill-color: #1967D2;\n",
              "      --hover-bg-color: #E2EBFA;\n",
              "      --hover-fill-color: #174EA6;\n",
              "      --disabled-fill-color: #AAA;\n",
              "      --disabled-bg-color: #DDD;\n",
              "  }\n",
              "\n",
              "  [theme=dark] .colab-df-quickchart {\n",
              "      --bg-color: #3B4455;\n",
              "      --fill-color: #D2E3FC;\n",
              "      --hover-bg-color: #434B5C;\n",
              "      --hover-fill-color: #FFFFFF;\n",
              "      --disabled-bg-color: #3B4455;\n",
              "      --disabled-fill-color: #666;\n",
              "  }\n",
              "\n",
              "  .colab-df-quickchart {\n",
              "    background-color: var(--bg-color);\n",
              "    border: none;\n",
              "    border-radius: 50%;\n",
              "    cursor: pointer;\n",
              "    display: none;\n",
              "    fill: var(--fill-color);\n",
              "    height: 32px;\n",
              "    padding: 0;\n",
              "    width: 32px;\n",
              "  }\n",
              "\n",
              "  .colab-df-quickchart:hover {\n",
              "    background-color: var(--hover-bg-color);\n",
              "    box-shadow: 0 1px 2px rgba(60, 64, 67, 0.3), 0 1px 3px 1px rgba(60, 64, 67, 0.15);\n",
              "    fill: var(--button-hover-fill-color);\n",
              "  }\n",
              "\n",
              "  .colab-df-quickchart-complete:disabled,\n",
              "  .colab-df-quickchart-complete:disabled:hover {\n",
              "    background-color: var(--disabled-bg-color);\n",
              "    fill: var(--disabled-fill-color);\n",
              "    box-shadow: none;\n",
              "  }\n",
              "\n",
              "  .colab-df-spinner {\n",
              "    border: 2px solid var(--fill-color);\n",
              "    border-color: transparent;\n",
              "    border-bottom-color: var(--fill-color);\n",
              "    animation:\n",
              "      spin 1s steps(1) infinite;\n",
              "  }\n",
              "\n",
              "  @keyframes spin {\n",
              "    0% {\n",
              "      border-color: transparent;\n",
              "      border-bottom-color: var(--fill-color);\n",
              "      border-left-color: var(--fill-color);\n",
              "    }\n",
              "    20% {\n",
              "      border-color: transparent;\n",
              "      border-left-color: var(--fill-color);\n",
              "      border-top-color: var(--fill-color);\n",
              "    }\n",
              "    30% {\n",
              "      border-color: transparent;\n",
              "      border-left-color: var(--fill-color);\n",
              "      border-top-color: var(--fill-color);\n",
              "      border-right-color: var(--fill-color);\n",
              "    }\n",
              "    40% {\n",
              "      border-color: transparent;\n",
              "      border-right-color: var(--fill-color);\n",
              "      border-top-color: var(--fill-color);\n",
              "    }\n",
              "    60% {\n",
              "      border-color: transparent;\n",
              "      border-right-color: var(--fill-color);\n",
              "    }\n",
              "    80% {\n",
              "      border-color: transparent;\n",
              "      border-right-color: var(--fill-color);\n",
              "      border-bottom-color: var(--fill-color);\n",
              "    }\n",
              "    90% {\n",
              "      border-color: transparent;\n",
              "      border-bottom-color: var(--fill-color);\n",
              "    }\n",
              "  }\n",
              "</style>\n",
              "\n",
              "  <script>\n",
              "    async function quickchart(key) {\n",
              "      const quickchartButtonEl =\n",
              "        document.querySelector('#' + key + ' button');\n",
              "      quickchartButtonEl.disabled = true;  // To prevent multiple clicks.\n",
              "      quickchartButtonEl.classList.add('colab-df-spinner');\n",
              "      try {\n",
              "        const charts = await google.colab.kernel.invokeFunction(\n",
              "            'suggestCharts', [key], {});\n",
              "      } catch (error) {\n",
              "        console.error('Error during call to suggestCharts:', error);\n",
              "      }\n",
              "      quickchartButtonEl.classList.remove('colab-df-spinner');\n",
              "      quickchartButtonEl.classList.add('colab-df-quickchart-complete');\n",
              "    }\n",
              "    (() => {\n",
              "      let quickchartButtonEl =\n",
              "        document.querySelector('#df-e6c0f4be-e15f-459f-b099-eac1c5930b70 button');\n",
              "      quickchartButtonEl.style.display =\n",
              "        google.colab.kernel.accessAllowed ? 'block' : 'none';\n",
              "    })();\n",
              "  </script>\n",
              "</div>\n",
              "\n",
              "    </div>\n",
              "  </div>\n"
            ],
            "application/vnd.google.colaboratory.intrinsic+json": {
              "type": "dataframe",
              "variable_name": "df",
              "summary": "{\n  \"name\": \"df\",\n  \"rows\": 26318,\n  \"fields\": [\n    {\n      \"column\": \"post_id\",\n      \"properties\": {\n        \"dtype\": \"category\",\n        \"num_unique_values\": 2798,\n        \"samples\": [\n          \"174b2fe\",\n          \"17708o6\",\n          \"18ekr3c\"\n        ],\n        \"semantic_type\": \"\",\n        \"description\": \"\"\n      }\n    },\n    {\n      \"column\": \"id\",\n      \"properties\": {\n        \"dtype\": \"string\",\n        \"num_unique_values\": 26318,\n        \"samples\": [\n          \"ksnr3f1\",\n          \"k65cjjm\",\n          \"kq4nlzq\"\n        ],\n        \"semantic_type\": \"\",\n        \"description\": \"\"\n      }\n    },\n    {\n      \"column\": \"label\",\n      \"properties\": {\n        \"dtype\": \"category\",\n        \"num_unique_values\": 5,\n        \"samples\": [\n          \"with palestine\",\n          \"indifferent\",\n          \"with israel\"\n        ],\n        \"semantic_type\": \"\",\n        \"description\": \"\"\n      }\n    },\n    {\n      \"column\": \"text\",\n      \"properties\": {\n        \"dtype\": \"string\",\n        \"num_unique_values\": 26155,\n        \"samples\": [\n          \"How many Gazan refugees are they going to take in? 0? Wow, that's weird.\",\n          \"I was banned on that sub just last week for asking if someone was a Hasbara troll because he was just regurgitating Israeli government talking points to justify the violence against Palestinians.\",\n          \"Those poor civilians in the middle are going to get absolutely fucked by this crapshow.\"\n        ],\n        \"semantic_type\": \"\",\n        \"description\": \"\"\n      }\n    },\n    {\n      \"column\": \"timestamp\",\n      \"properties\": {\n        \"dtype\": \"object\",\n        \"num_unique_values\": 26278,\n        \"samples\": [\n          \"2023-10-11 17:12:31\",\n          \"2023-10-07 23:28:12\",\n          \"2024-01-26 13:38:14\"\n        ],\n        \"semantic_type\": \"\",\n        \"description\": \"\"\n      }\n    },\n    {\n      \"column\": \"ups\",\n      \"properties\": {\n        \"dtype\": \"number\",\n        \"std\": 967,\n        \"min\": -274,\n        \"max\": 16742,\n        \"num_unique_values\": 2995,\n        \"samples\": [\n          2373,\n          834,\n          514\n        ],\n        \"semantic_type\": \"\",\n        \"description\": \"\"\n      }\n    }\n  ]\n}"
            }
          },
          "metadata": {},
          "execution_count": 4
        }
      ]
    },
    {
      "cell_type": "code",
      "source": [
        "from google.colab import drive\n",
        "drive.mount('/content/drive')"
      ],
      "metadata": {
        "colab": {
          "base_uri": "https://localhost:8080/"
        },
        "id": "wo0vaVTgTv9C",
        "outputId": "328757ae-5ad0-467c-dbb6-dea9f76aee4b"
      },
      "execution_count": null,
      "outputs": [
        {
          "output_type": "stream",
          "name": "stdout",
          "text": [
            "Mounted at /content/drive\n"
          ]
        }
      ]
    },
    {
      "cell_type": "code",
      "source": [
        "# Download NLTK resources\n",
        "nltk.download('punkt')\n",
        "nltk.download('stopwords')\n",
        "nltk.download('wordnet')"
      ],
      "metadata": {
        "colab": {
          "base_uri": "https://localhost:8080/"
        },
        "id": "Mnilth15570N",
        "outputId": "27c6827b-9a30-4958-b1cf-91a40f889002"
      },
      "execution_count": null,
      "outputs": [
        {
          "output_type": "stream",
          "name": "stderr",
          "text": [
            "[nltk_data] Downloading package punkt to /root/nltk_data...\n",
            "[nltk_data]   Unzipping tokenizers/punkt.zip.\n",
            "[nltk_data] Downloading package stopwords to /root/nltk_data...\n",
            "[nltk_data]   Unzipping corpora/stopwords.zip.\n",
            "[nltk_data] Downloading package wordnet to /root/nltk_data...\n"
          ]
        },
        {
          "output_type": "execute_result",
          "data": {
            "text/plain": [
              "True"
            ]
          },
          "metadata": {},
          "execution_count": 6
        }
      ]
    },
    {
      "cell_type": "code",
      "source": [
        "# Define stopwords and stemmer\n",
        "stop_words = set(stopwords.words('english'))\n",
        "print(stop_words)"
      ],
      "metadata": {
        "colab": {
          "base_uri": "https://localhost:8080/"
        },
        "id": "HQwUDoQ36Y6C",
        "outputId": "25ac1dc5-c7cc-4d2c-cf76-1b5ed4ebfea3"
      },
      "execution_count": null,
      "outputs": [
        {
          "output_type": "stream",
          "name": "stdout",
          "text": [
            "{'theirs', 'he', \"shan't\", 'to', 'has', 'doing', 'does', 'if', 'can', 'just', 'under', 'o', 'only', 'not', 'them', 'where', 'very', 'm', 'wouldn', 'why', 'in', 'further', \"you'll\", 'such', 'will', 'mightn', 'mustn', 'its', \"you're\", 'him', 'we', \"that'll\", 'now', \"haven't\", 'isn', 'after', 'which', 'needn', 'through', 'once', 'won', 'your', 'here', 'hadn', \"couldn't\", 'this', 'me', 'over', \"won't\", 'from', 'when', 'themselves', 'am', 'how', 'a', 'shan', 'all', 'yours', 'ourselves', 'the', 'by', 'these', 'against', 'don', 'most', 'own', 'of', 'ma', 'who', \"hasn't\", \"aren't\", 'other', 'his', 'out', 'off', 'because', 'she', 'y', 'any', 'i', 'while', \"you've\", \"don't\", 's', 'my', 'each', 'hers', 'into', 'is', 'herself', 'as', 'been', 'those', 'should', \"shouldn't\", 'are', 'and', 'but', 'ain', 'himself', 'during', \"isn't\", 'an', 'then', \"mightn't\", \"mustn't\", \"needn't\", 'too', 'no', 'yourselves', 'was', 're', 'same', \"wouldn't\", 'being', 'did', 'until', 'more', 'for', 'so', \"didn't\", 'or', 'you', 'll', 've', 'our', 'before', 'shouldn', 'd', 'having', 'between', 'had', \"it's\", 'above', 'both', 'doesn', 'ours', 'what', 'hasn', 'haven', 'there', 'with', \"should've\", 'didn', 'weren', 't', 'at', 'some', 'their', 'that', 'be', \"weren't\", 'were', 'aren', 'itself', \"wasn't\", 'below', 'couldn', 'it', 'few', 'down', 'nor', 'whom', 'on', \"hadn't\", 'they', \"she's\", 'yourself', 'than', \"you'd\", 'have', 'do', 'about', 'again', 'up', 'her', \"doesn't\", 'wasn', 'myself'}\n"
          ]
        }
      ]
    },
    {
      "cell_type": "code",
      "source": [
        "\n",
        "\n",
        "# Remove the unwanted columns\n",
        "df = df[['label', 'text']]\n",
        "\n",
        "# Display the modified dataframe\n",
        "print(\"Modified DataFrame:\")\n",
        "print(df.head())"
      ],
      "metadata": {
        "colab": {
          "base_uri": "https://localhost:8080/"
        },
        "id": "qU8lrh9N7O13",
        "outputId": "e0d91947-7cb4-456b-8115-7f9e10fdab17"
      },
      "execution_count": null,
      "outputs": [
        {
          "output_type": "stream",
          "name": "stdout",
          "text": [
            "Modified DataFrame:\n",
            "            label                                               text\n",
            "0         neutral  Israel pulled out of Gaza in 2005 so the 2010 ...\n",
            "1  with palestine  The 1946 map should be completely red as the w...\n",
            "2  with palestine  To be fair. You should count 1947 as the first...\n",
            "3     with israel  No. Each map is depicting something different....\n",
            "4     with israel  A history of Israel over the last 100 years, i...\n"
          ]
        }
      ]
    },
    {
      "cell_type": "code",
      "source": [
        "stemmer = PorterStemmer()\n",
        "\n",
        "# Define a function for text preprocessing\n",
        "def preprocess_text(text):\n",
        "    text = text.lower()\n",
        "    text = text.translate(str.maketrans('', '', string.punctuation))\n",
        "\n",
        "    # Tokenize the text\n",
        "    tokens = word_tokenize(text)\n",
        "\n",
        "    # Remove stopwords\n",
        "    filtered_tokens = [word for word in tokens if word not in stop_words]\n",
        "\n",
        "\n",
        "    # Lemmatization\n",
        "    lemmatizer = nltk.WordNetLemmatizer()\n",
        "    lemmatized_tokens = [lemmatizer.lemmatize(word) for word in filtered_tokens]\n",
        "\n",
        "    return ' '.join(lemmatized_tokens)"
      ],
      "metadata": {
        "id": "hv3RZ2W97Y_V"
      },
      "execution_count": null,
      "outputs": []
    },
    {
      "cell_type": "code",
      "source": [
        "df['cleaned_text'] = df['text'].apply(preprocess_text)\n",
        "df.head()"
      ],
      "metadata": {
        "id": "WmJwgXFO8no6",
        "colab": {
          "base_uri": "https://localhost:8080/",
          "height": 206
        },
        "outputId": "000865ac-983b-4b35-9b53-6e96ad023fe5"
      },
      "execution_count": null,
      "outputs": [
        {
          "output_type": "execute_result",
          "data": {
            "text/plain": [
              "            label                                               text  \\\n",
              "0         neutral  Israel pulled out of Gaza in 2005 so the 2010 ...   \n",
              "1  with palestine  The 1946 map should be completely red as the w...   \n",
              "2  with palestine  To be fair. You should count 1947 as the first...   \n",
              "3     with israel  No. Each map is depicting something different....   \n",
              "4     with israel  A history of Israel over the last 100 years, i...   \n",
              "\n",
              "                                        cleaned_text  \n",
              "0  israel pulled gaza 2005 2010 map straight wron...  \n",
              "1  1946 map completely red whole thing british co...  \n",
              "2  fair count 1947 first map giving independence ...  \n",
              "3  map depicting something different first map sh...  \n",
              "4  history israel last 100 year youre interested ...  "
            ],
            "text/html": [
              "\n",
              "  <div id=\"df-c8a3c59d-621e-4eed-8c38-301b448e4295\" class=\"colab-df-container\">\n",
              "    <div>\n",
              "<style scoped>\n",
              "    .dataframe tbody tr th:only-of-type {\n",
              "        vertical-align: middle;\n",
              "    }\n",
              "\n",
              "    .dataframe tbody tr th {\n",
              "        vertical-align: top;\n",
              "    }\n",
              "\n",
              "    .dataframe thead th {\n",
              "        text-align: right;\n",
              "    }\n",
              "</style>\n",
              "<table border=\"1\" class=\"dataframe\">\n",
              "  <thead>\n",
              "    <tr style=\"text-align: right;\">\n",
              "      <th></th>\n",
              "      <th>label</th>\n",
              "      <th>text</th>\n",
              "      <th>cleaned_text</th>\n",
              "    </tr>\n",
              "  </thead>\n",
              "  <tbody>\n",
              "    <tr>\n",
              "      <th>0</th>\n",
              "      <td>neutral</td>\n",
              "      <td>Israel pulled out of Gaza in 2005 so the 2010 ...</td>\n",
              "      <td>israel pulled gaza 2005 2010 map straight wron...</td>\n",
              "    </tr>\n",
              "    <tr>\n",
              "      <th>1</th>\n",
              "      <td>with palestine</td>\n",
              "      <td>The 1946 map should be completely red as the w...</td>\n",
              "      <td>1946 map completely red whole thing british co...</td>\n",
              "    </tr>\n",
              "    <tr>\n",
              "      <th>2</th>\n",
              "      <td>with palestine</td>\n",
              "      <td>To be fair. You should count 1947 as the first...</td>\n",
              "      <td>fair count 1947 first map giving independence ...</td>\n",
              "    </tr>\n",
              "    <tr>\n",
              "      <th>3</th>\n",
              "      <td>with israel</td>\n",
              "      <td>No. Each map is depicting something different....</td>\n",
              "      <td>map depicting something different first map sh...</td>\n",
              "    </tr>\n",
              "    <tr>\n",
              "      <th>4</th>\n",
              "      <td>with israel</td>\n",
              "      <td>A history of Israel over the last 100 years, i...</td>\n",
              "      <td>history israel last 100 year youre interested ...</td>\n",
              "    </tr>\n",
              "  </tbody>\n",
              "</table>\n",
              "</div>\n",
              "    <div class=\"colab-df-buttons\">\n",
              "\n",
              "  <div class=\"colab-df-container\">\n",
              "    <button class=\"colab-df-convert\" onclick=\"convertToInteractive('df-c8a3c59d-621e-4eed-8c38-301b448e4295')\"\n",
              "            title=\"Convert this dataframe to an interactive table.\"\n",
              "            style=\"display:none;\">\n",
              "\n",
              "  <svg xmlns=\"http://www.w3.org/2000/svg\" height=\"24px\" viewBox=\"0 -960 960 960\">\n",
              "    <path d=\"M120-120v-720h720v720H120Zm60-500h600v-160H180v160Zm220 220h160v-160H400v160Zm0 220h160v-160H400v160ZM180-400h160v-160H180v160Zm440 0h160v-160H620v160ZM180-180h160v-160H180v160Zm440 0h160v-160H620v160Z\"/>\n",
              "  </svg>\n",
              "    </button>\n",
              "\n",
              "  <style>\n",
              "    .colab-df-container {\n",
              "      display:flex;\n",
              "      gap: 12px;\n",
              "    }\n",
              "\n",
              "    .colab-df-convert {\n",
              "      background-color: #E8F0FE;\n",
              "      border: none;\n",
              "      border-radius: 50%;\n",
              "      cursor: pointer;\n",
              "      display: none;\n",
              "      fill: #1967D2;\n",
              "      height: 32px;\n",
              "      padding: 0 0 0 0;\n",
              "      width: 32px;\n",
              "    }\n",
              "\n",
              "    .colab-df-convert:hover {\n",
              "      background-color: #E2EBFA;\n",
              "      box-shadow: 0px 1px 2px rgba(60, 64, 67, 0.3), 0px 1px 3px 1px rgba(60, 64, 67, 0.15);\n",
              "      fill: #174EA6;\n",
              "    }\n",
              "\n",
              "    .colab-df-buttons div {\n",
              "      margin-bottom: 4px;\n",
              "    }\n",
              "\n",
              "    [theme=dark] .colab-df-convert {\n",
              "      background-color: #3B4455;\n",
              "      fill: #D2E3FC;\n",
              "    }\n",
              "\n",
              "    [theme=dark] .colab-df-convert:hover {\n",
              "      background-color: #434B5C;\n",
              "      box-shadow: 0px 1px 3px 1px rgba(0, 0, 0, 0.15);\n",
              "      filter: drop-shadow(0px 1px 2px rgba(0, 0, 0, 0.3));\n",
              "      fill: #FFFFFF;\n",
              "    }\n",
              "  </style>\n",
              "\n",
              "    <script>\n",
              "      const buttonEl =\n",
              "        document.querySelector('#df-c8a3c59d-621e-4eed-8c38-301b448e4295 button.colab-df-convert');\n",
              "      buttonEl.style.display =\n",
              "        google.colab.kernel.accessAllowed ? 'block' : 'none';\n",
              "\n",
              "      async function convertToInteractive(key) {\n",
              "        const element = document.querySelector('#df-c8a3c59d-621e-4eed-8c38-301b448e4295');\n",
              "        const dataTable =\n",
              "          await google.colab.kernel.invokeFunction('convertToInteractive',\n",
              "                                                    [key], {});\n",
              "        if (!dataTable) return;\n",
              "\n",
              "        const docLinkHtml = 'Like what you see? Visit the ' +\n",
              "          '<a target=\"_blank\" href=https://colab.research.google.com/notebooks/data_table.ipynb>data table notebook</a>'\n",
              "          + ' to learn more about interactive tables.';\n",
              "        element.innerHTML = '';\n",
              "        dataTable['output_type'] = 'display_data';\n",
              "        await google.colab.output.renderOutput(dataTable, element);\n",
              "        const docLink = document.createElement('div');\n",
              "        docLink.innerHTML = docLinkHtml;\n",
              "        element.appendChild(docLink);\n",
              "      }\n",
              "    </script>\n",
              "  </div>\n",
              "\n",
              "\n",
              "<div id=\"df-f1ec07bb-1e62-4a94-a005-3d98ea0f0423\">\n",
              "  <button class=\"colab-df-quickchart\" onclick=\"quickchart('df-f1ec07bb-1e62-4a94-a005-3d98ea0f0423')\"\n",
              "            title=\"Suggest charts\"\n",
              "            style=\"display:none;\">\n",
              "\n",
              "<svg xmlns=\"http://www.w3.org/2000/svg\" height=\"24px\"viewBox=\"0 0 24 24\"\n",
              "     width=\"24px\">\n",
              "    <g>\n",
              "        <path d=\"M19 3H5c-1.1 0-2 .9-2 2v14c0 1.1.9 2 2 2h14c1.1 0 2-.9 2-2V5c0-1.1-.9-2-2-2zM9 17H7v-7h2v7zm4 0h-2V7h2v10zm4 0h-2v-4h2v4z\"/>\n",
              "    </g>\n",
              "</svg>\n",
              "  </button>\n",
              "\n",
              "<style>\n",
              "  .colab-df-quickchart {\n",
              "      --bg-color: #E8F0FE;\n",
              "      --fill-color: #1967D2;\n",
              "      --hover-bg-color: #E2EBFA;\n",
              "      --hover-fill-color: #174EA6;\n",
              "      --disabled-fill-color: #AAA;\n",
              "      --disabled-bg-color: #DDD;\n",
              "  }\n",
              "\n",
              "  [theme=dark] .colab-df-quickchart {\n",
              "      --bg-color: #3B4455;\n",
              "      --fill-color: #D2E3FC;\n",
              "      --hover-bg-color: #434B5C;\n",
              "      --hover-fill-color: #FFFFFF;\n",
              "      --disabled-bg-color: #3B4455;\n",
              "      --disabled-fill-color: #666;\n",
              "  }\n",
              "\n",
              "  .colab-df-quickchart {\n",
              "    background-color: var(--bg-color);\n",
              "    border: none;\n",
              "    border-radius: 50%;\n",
              "    cursor: pointer;\n",
              "    display: none;\n",
              "    fill: var(--fill-color);\n",
              "    height: 32px;\n",
              "    padding: 0;\n",
              "    width: 32px;\n",
              "  }\n",
              "\n",
              "  .colab-df-quickchart:hover {\n",
              "    background-color: var(--hover-bg-color);\n",
              "    box-shadow: 0 1px 2px rgba(60, 64, 67, 0.3), 0 1px 3px 1px rgba(60, 64, 67, 0.15);\n",
              "    fill: var(--button-hover-fill-color);\n",
              "  }\n",
              "\n",
              "  .colab-df-quickchart-complete:disabled,\n",
              "  .colab-df-quickchart-complete:disabled:hover {\n",
              "    background-color: var(--disabled-bg-color);\n",
              "    fill: var(--disabled-fill-color);\n",
              "    box-shadow: none;\n",
              "  }\n",
              "\n",
              "  .colab-df-spinner {\n",
              "    border: 2px solid var(--fill-color);\n",
              "    border-color: transparent;\n",
              "    border-bottom-color: var(--fill-color);\n",
              "    animation:\n",
              "      spin 1s steps(1) infinite;\n",
              "  }\n",
              "\n",
              "  @keyframes spin {\n",
              "    0% {\n",
              "      border-color: transparent;\n",
              "      border-bottom-color: var(--fill-color);\n",
              "      border-left-color: var(--fill-color);\n",
              "    }\n",
              "    20% {\n",
              "      border-color: transparent;\n",
              "      border-left-color: var(--fill-color);\n",
              "      border-top-color: var(--fill-color);\n",
              "    }\n",
              "    30% {\n",
              "      border-color: transparent;\n",
              "      border-left-color: var(--fill-color);\n",
              "      border-top-color: var(--fill-color);\n",
              "      border-right-color: var(--fill-color);\n",
              "    }\n",
              "    40% {\n",
              "      border-color: transparent;\n",
              "      border-right-color: var(--fill-color);\n",
              "      border-top-color: var(--fill-color);\n",
              "    }\n",
              "    60% {\n",
              "      border-color: transparent;\n",
              "      border-right-color: var(--fill-color);\n",
              "    }\n",
              "    80% {\n",
              "      border-color: transparent;\n",
              "      border-right-color: var(--fill-color);\n",
              "      border-bottom-color: var(--fill-color);\n",
              "    }\n",
              "    90% {\n",
              "      border-color: transparent;\n",
              "      border-bottom-color: var(--fill-color);\n",
              "    }\n",
              "  }\n",
              "</style>\n",
              "\n",
              "  <script>\n",
              "    async function quickchart(key) {\n",
              "      const quickchartButtonEl =\n",
              "        document.querySelector('#' + key + ' button');\n",
              "      quickchartButtonEl.disabled = true;  // To prevent multiple clicks.\n",
              "      quickchartButtonEl.classList.add('colab-df-spinner');\n",
              "      try {\n",
              "        const charts = await google.colab.kernel.invokeFunction(\n",
              "            'suggestCharts', [key], {});\n",
              "      } catch (error) {\n",
              "        console.error('Error during call to suggestCharts:', error);\n",
              "      }\n",
              "      quickchartButtonEl.classList.remove('colab-df-spinner');\n",
              "      quickchartButtonEl.classList.add('colab-df-quickchart-complete');\n",
              "    }\n",
              "    (() => {\n",
              "      let quickchartButtonEl =\n",
              "        document.querySelector('#df-f1ec07bb-1e62-4a94-a005-3d98ea0f0423 button');\n",
              "      quickchartButtonEl.style.display =\n",
              "        google.colab.kernel.accessAllowed ? 'block' : 'none';\n",
              "    })();\n",
              "  </script>\n",
              "</div>\n",
              "\n",
              "    </div>\n",
              "  </div>\n"
            ],
            "application/vnd.google.colaboratory.intrinsic+json": {
              "type": "dataframe",
              "variable_name": "df",
              "summary": "{\n  \"name\": \"df\",\n  \"rows\": 26318,\n  \"fields\": [\n    {\n      \"column\": \"label\",\n      \"properties\": {\n        \"dtype\": \"category\",\n        \"num_unique_values\": 5,\n        \"samples\": [\n          \"with palestine\",\n          \"indifferent\",\n          \"with israel\"\n        ],\n        \"semantic_type\": \"\",\n        \"description\": \"\"\n      }\n    },\n    {\n      \"column\": \"text\",\n      \"properties\": {\n        \"dtype\": \"string\",\n        \"num_unique_values\": 26155,\n        \"samples\": [\n          \"How many Gazan refugees are they going to take in? 0? Wow, that's weird.\",\n          \"I was banned on that sub just last week for asking if someone was a Hasbara troll because he was just regurgitating Israeli government talking points to justify the violence against Palestinians.\",\n          \"Those poor civilians in the middle are going to get absolutely fucked by this crapshow.\"\n        ],\n        \"semantic_type\": \"\",\n        \"description\": \"\"\n      }\n    },\n    {\n      \"column\": \"cleaned_text\",\n      \"properties\": {\n        \"dtype\": \"string\",\n        \"num_unique_values\": 26002,\n        \"samples\": [\n          \"goverments \\u2019 sanction israel people \\ud83c\\udf49\\ud83c\\uddf5\\ud83c\\uddf8\",\n          \"1 basic zionism homeland jew exist 2 standard zionism jewish state exist 3 supa zionism jewish state exist including west bank whatever else take zionist standard zionist however people use zionist pejorative labeling person supa zionist\",\n          \"soooo immunity proxy thing ridiculous\"\n        ],\n        \"semantic_type\": \"\",\n        \"description\": \"\"\n      }\n    }\n  ]\n}"
            }
          },
          "metadata": {},
          "execution_count": 10
        }
      ]
    },
    {
      "source": [
        "# @title label\n",
        "\n",
        "from matplotlib import pyplot as plt\n",
        "import seaborn as sns\n",
        "df.groupby('label').size().plot(kind='barh', color=sns.palettes.mpl_palette('Dark2'))\n",
        "plt.gca().spines[['top', 'right',]].set_visible(False)"
      ],
      "cell_type": "code",
      "execution_count": null,
      "outputs": [
        {
          "output_type": "display_data",
          "data": {
            "text/plain": [
              "<Figure size 640x480 with 1 Axes>"
            ],
            "image/png": "[encoded data removed]"
          },
          "metadata": {}
        }
      ],
      "metadata": {
        "cellView": "form",
        "id": "6TR2dVzf-JT3",
        "colab": {
          "base_uri": "https://localhost:8080/",
          "height": 430
        },
        "outputId": "b63b35f9-2138-4fc0-8544-2aeef8f7f701"
      }
    },
    {
      "cell_type": "code",
      "source": [
        "df.dropna()\n",
        "rows_to_drop = df[df['cleaned_text']==''].index\n",
        "df = df.drop(rows_to_drop)\n",
        "print(df.isnull().sum())\n"
      ],
      "metadata": {
        "id": "O782XaMG-RsQ",
        "colab": {
          "base_uri": "https://localhost:8080/"
        },
        "outputId": "72704154-e103-4db6-c925-a744fbb852d2"
      },
      "execution_count": null,
      "outputs": [
        {
          "output_type": "stream",
          "name": "stdout",
          "text": [
            "label           0\n",
            "text            0\n",
            "cleaned_text    0\n",
            "dtype: int64\n"
          ]
        }
      ]
    },
    {
      "cell_type": "code",
      "source": [
        "\n",
        "#tokenizer = Tokenizer()\n",
        "#tokenizer.fit_on_texts(df['cleaned_text'])\n",
        "#X = tokenizer.texts_to_sequences(df['cleaned_text'])\n",
        "\n"
      ],
      "metadata": {
        "id": "ryjXsfnA-yiI"
      },
      "execution_count": null,
      "outputs": []
    },
    {
      "cell_type": "code",
      "source": [
        "#sequence_lengths = [len(sequence) for sequence in X]\n",
        "#max_length = int(np.percentile(sequence_lengths, 95))\n",
        "#print(\"95th percentile of sequence length:\", max_length)\n"
      ],
      "metadata": {
        "id": "kZ62GDArntt1",
        "colab": {
          "base_uri": "https://localhost:8080/",
          "height": 183
        },
        "outputId": "770900d3-8fc7-4372-8dd5-47c3c956f3aa"
      },
      "execution_count": null,
      "outputs": [
        {
          "output_type": "error",
          "ename": "NameError",
          "evalue": "name 'X' is not defined",
          "traceback": [
            "\u001b[0;31m---------------------------------------------------------------------------\u001b[0m",
            "\u001b[0;31mNameError\u001b[0m                                 Traceback (most recent call last)",
            "\u001b[0;32m<ipython-input-14-ce95a29a134b>\u001b[0m in \u001b[0;36m<cell line: 1>\u001b[0;34m()\u001b[0m\n\u001b[0;32m----> 1\u001b[0;31m \u001b[0msequence_lengths\u001b[0m \u001b[0;34m=\u001b[0m \u001b[0;34m[\u001b[0m\u001b[0mlen\u001b[0m\u001b[0;34m(\u001b[0m\u001b[0msequence\u001b[0m\u001b[0;34m)\u001b[0m \u001b[0;32mfor\u001b[0m \u001b[0msequence\u001b[0m \u001b[0;32min\u001b[0m \u001b[0mX\u001b[0m\u001b[0;34m]\u001b[0m\u001b[0;34m\u001b[0m\u001b[0;34m\u001b[0m\u001b[0m\n\u001b[0m\u001b[1;32m      2\u001b[0m \u001b[0mmax_length\u001b[0m \u001b[0;34m=\u001b[0m \u001b[0mint\u001b[0m\u001b[0;34m(\u001b[0m\u001b[0mnp\u001b[0m\u001b[0;34m.\u001b[0m\u001b[0mpercentile\u001b[0m\u001b[0;34m(\u001b[0m\u001b[0msequence_lengths\u001b[0m\u001b[0;34m,\u001b[0m \u001b[0;36m95\u001b[0m\u001b[0;34m)\u001b[0m\u001b[0;34m)\u001b[0m\u001b[0;34m\u001b[0m\u001b[0;34m\u001b[0m\u001b[0m\n\u001b[1;32m      3\u001b[0m \u001b[0mprint\u001b[0m\u001b[0;34m(\u001b[0m\u001b[0;34m\"95th percentile of sequence length:\"\u001b[0m\u001b[0;34m,\u001b[0m \u001b[0mmax_length\u001b[0m\u001b[0;34m)\u001b[0m\u001b[0;34m\u001b[0m\u001b[0;34m\u001b[0m\u001b[0m\n",
            "\u001b[0;31mNameError\u001b[0m: name 'X' is not defined"
          ]
        }
      ]
    },
    {
      "cell_type": "code",
      "source": [
        "#max_length = 60 # Example value, adjust based on your maximum sequence length\n",
        "#X = pad_sequences(X, maxlen=max_length, padding='post')\n",
        "\n",
        "\n",
        "mapping = {\"with israel\": 0, \"with palestine\": 1, 'neutral': 2, 'inquisitive':3,'indifferent':4}\n",
        "df['classes'] = df['label'].map(mapping)\n",
        "\n",
        "y = df['classes']"
      ],
      "metadata": {
        "id": "xaHCR4Den35R"
      },
      "execution_count": null,
      "outputs": []
    },
    {
      "cell_type": "code",
      "source": [
        "print(df[\"label\"].unique())"
      ],
      "metadata": {
        "id": "jFIgIEB6_st1"
      },
      "execution_count": null,
      "outputs": []
    },
    {
      "cell_type": "code",
      "source": [
        "# Split the data into training and testing sets\n",
        "#X_train, X_test, #y_train, y_test = train_test_split(X, y, test_size=0.15, random_state=42)\n",
        "X_train, X_test, y_train, y_test = train_test_split(df['cleaned_text'].tolist(), df['classes'].tolist(), test_size=0.15, random_state=42)"
      ],
      "metadata": {
        "id": "SjF64cXr_8RZ"
      },
      "execution_count": null,
      "outputs": []
    },
    {
      "cell_type": "code",
      "source": [
        "print(X_train)"
      ],
      "metadata": {
        "id": "wbtQ25MFm7cp",
        "colab": {
          "base_uri": "https://localhost:8080/"
        },
        "outputId": "2ac4f399-9e0b-400c-c9ed-9e87d7094955"
      },
      "execution_count": null,
      "outputs": [
        {
          "output_type": "stream",
          "name": "stderr",
          "text": [
            "IOPub data rate exceeded.\n",
            "The notebook server will temporarily stop sending output\n",
            "to the client in order to avoid crashing it.\n",
            "To change this limit, set the config variable\n",
            "`--NotebookApp.iopub_data_rate_limit`.\n",
            "\n",
            "Current values:\n",
            "NotebookApp.iopub_data_rate_limit=1000000.0 (bytes/sec)\n",
            "NotebookApp.rate_limit_window=3.0 (secs)\n",
            "\n"
          ]
        }
      ]
    },
    {
      "cell_type": "code",
      "source": [
        "tokenizer = AutoTokenizer.from_pretrained(\"bucketresearch/politicalBiasBERT\")\n",
        "bert_model = TFBertModel.from_pretrained(\"bucketresearch/politicalBiasBERT\")\n",
        "\n",
        "# Tokenize the data\n",
        "def tokenize_data(data):\n",
        "    return tokenizer(data, padding=True, truncation=True, return_tensors=\"tf\", max_length=60)\n",
        "\n",
        "train_encodings = tokenize_data(X_train)\n",
        "val_encodings = tokenize_data(X_test)"
      ],
      "metadata": {
        "colab": {
          "base_uri": "https://localhost:8080/"
        },
        "id": "gjp9Bovu4H8O",
        "outputId": "9b576767-0782-4e9a-cf78-efc5c8f54a29"
      },
      "execution_count": null,
      "outputs": [
        {
          "output_type": "stream",
          "name": "stderr",
          "text": [
            "/usr/local/lib/python3.10/dist-packages/huggingface_hub/file_download.py:1132: FutureWarning: `resume_download` is deprecated and will be removed in version 1.0.0. Downloads always resume when possible. If you want to force a new download, use `force_download=True`.\n",
            "  warnings.warn(\n",
            "Some weights of the PyTorch model were not used when initializing the TF 2.0 model TFBertModel: ['bert.embeddings.position_ids', 'classifier.bias', 'classifier.weight']\n",
            "- This IS expected if you are initializing TFBertModel from a PyTorch model trained on another task or with another architecture (e.g. initializing a TFBertForSequenceClassification model from a BertForPreTraining model).\n",
            "- This IS NOT expected if you are initializing TFBertModel from a PyTorch model that you expect to be exactly identical (e.g. initializing a TFBertForSequenceClassification model from a BertForSequenceClassification model).\n",
            "All the weights of TFBertModel were initialized from the PyTorch model.\n",
            "If your task is similar to the task the model of the checkpoint was trained on, you can already use TFBertModel for predictions without further training.\n"
          ]
        }
      ]
    },
    {
      "cell_type": "code",
      "source": [
        "# Convert encodings to sequences\n",
        "X_train = pad_sequences(train_encodings['input_ids'], maxlen=60, padding='post')\n",
        "X_test = pad_sequences(val_encodings['input_ids'], maxlen=60, padding='post')"
      ],
      "metadata": {
        "id": "Tr-gboiOAYVN"
      },
      "execution_count": null,
      "outputs": []
    },
    {
      "cell_type": "code",
      "source": [
        "y_train = np.array(y_train)\n",
        "y_test = np.array(y_test)\n",
        "print(y_train)"
      ],
      "metadata": {
        "colab": {
          "base_uri": "https://localhost:8080/"
        },
        "id": "h0Ea3EyrCp83",
        "outputId": "5a060e12-f57e-4033-e1df-334257309392"
      },
      "execution_count": null,
      "outputs": [
        {
          "output_type": "stream",
          "name": "stdout",
          "text": [
            "[3 1 1 ... 1 2 1]\n"
          ]
        }
      ]
    },
    {
      "cell_type": "code",
      "source": [
        "# Define the model\n",
        "embedding_dim = 1000\n",
        "lstm_units = 128\n",
        "\n",
        "model = Sequential()\n",
        "model.add(Embedding(input_dim=len(tokenizer.vocab) + 1, output_dim=embedding_dim, input_length=60)) # The embedding layer\n",
        "model.add(LSTM(128, return_sequences=True)) # Our LSTM layer\n",
        "model.add(LSTM(64, return_sequences=True))\n",
        "model.add(LSTM(32))\n",
        "model.add(Dense(5, activation='softmax'))\n",
        "\n",
        "model.compile(optimizer='Adam', loss='sparse_categorical_crossentropy', metrics=['accuracy'])"
      ],
      "metadata": {
        "id": "PkFp3L5XAFPQ",
        "colab": {
          "base_uri": "https://localhost:8080/"
        },
        "outputId": "67feb59a-b2bc-4621-cca3-459daa1e40af"
      },
      "execution_count": null,
      "outputs": [
        {
          "output_type": "stream",
          "name": "stderr",
          "text": [
            "WARNING:tensorflow:Layer lstm will not use cuDNN kernels since it doesn't meet the criteria. It will use a generic GPU kernel as fallback when running on GPU.\n",
            "WARNING:tensorflow:Layer lstm_1 will not use cuDNN kernels since it doesn't meet the criteria. It will use a generic GPU kernel as fallback when running on GPU.\n",
            "WARNING:tensorflow:Layer lstm_2 will not use cuDNN kernels since it doesn't meet the criteria. It will use a generic GPU kernel as fallback when running on GPU.\n"
          ]
        }
      ]
    },
    {
      "cell_type": "code",
      "source": [
        "print(y_train)"
      ],
      "metadata": {
        "id": "XNoZJGdUEcE9",
        "colab": {
          "base_uri": "https://localhost:8080/"
        },
        "outputId": "661c3760-0ddb-4b31-b21f-974576d17f49"
      },
      "execution_count": null,
      "outputs": [
        {
          "output_type": "stream",
          "name": "stdout",
          "text": [
            "[3 1 1 ... 1 2 1]\n"
          ]
        }
      ]
    },
    {
      "cell_type": "code",
      "source": [
        "checkpoint = ModelCheckpoint(\"/content/drive/MyDrive/israel-palestine/best_model1.hdf5\", monitor='val_accuracy',\n",
        "                             verbose=1,save_best_only=True, mode='auto', save_freq='epoch',save_weights_only=False)"
      ],
      "metadata": {
        "id": "YlDJ4H3v3U6b"
      },
      "execution_count": null,
      "outputs": []
    },
    {
      "cell_type": "code",
      "source": [
        "# Train the model\n",
        "\n",
        "history = model.fit(X_train, y_train, epochs=7, batch_size=64, validation_data=(X_test, y_test), callbacks=[checkpoint])\n",
        "#history = model.fit(X_train, y_train, epochs=5,batch_size=64,validation_data=(X_test, y_test),callbacks=[checkpoint])"
      ],
      "metadata": {
        "id": "ciyeA2iHCxVr",
        "colab": {
          "base_uri": "https://localhost:8080/"
        },
        "outputId": "817ea9cb-d146-4980-8dc0-f3e714d1bd8f"
      },
      "execution_count": null,
      "outputs": [
        {
          "metadata": {
            "tags": null
          },
          "name": "stdout",
          "output_type": "stream",
          "text": [
            "Epoch 1/7\n",
            "350/350 [==============================] - ETA: 0s - loss: 1.3528 - accuracy: 0.3481\n",
            "Epoch 1: val_accuracy improved from -inf to 0.34136, saving model to /content/drive/MyDrive/israel-palestine/best_model1.hdf5\n"
          ]
        },
        {
          "metadata": {
            "tags": null
          },
          "name": "stderr",
          "output_type": "stream",
          "text": [
            "/usr/local/lib/python3.10/dist-packages/keras/src/engine/training.py:3103: UserWarning: You are saving your model as an HDF5 file via `model.save()`. This file format is considered legacy. We recommend using instead the native Keras format, e.g. `model.save('my_model.keras')`.\n",
            "  saving_api.save_model(\n"
          ]
        },
        {
          "output_type": "stream",
          "name": "stdout",
          "text": [
            "350/350 [==============================] - 145s 396ms/step - loss: 1.3528 - accuracy: 0.3481 - val_loss: 1.3488 - val_accuracy: 0.3414\n",
            "Epoch 2/7\n",
            "350/350 [==============================] - ETA: 0s - loss: 1.3138 - accuracy: 0.3660\n",
            "Epoch 2: val_accuracy improved from 0.34136 to 0.39133, saving model to /content/drive/MyDrive/israel-palestine/best_model1.hdf5\n",
            "350/350 [==============================] - 108s 307ms/step - loss: 1.3138 - accuracy: 0.3660 - val_loss: 1.2869 - val_accuracy: 0.3913\n",
            "Epoch 3/7\n",
            "350/350 [==============================] - ETA: 0s - loss: 1.2324 - accuracy: 0.4386\n",
            "Epoch 3: val_accuracy improved from 0.39133 to 0.43114, saving model to /content/drive/MyDrive/israel-palestine/best_model1.hdf5\n",
            "350/350 [==============================] - 110s 313ms/step - loss: 1.2324 - accuracy: 0.4386 - val_loss: 1.2589 - val_accuracy: 0.4311\n",
            "Epoch 4/7\n",
            "350/350 [==============================] - ETA: 0s - loss: 1.1170 - accuracy: 0.5314\n",
            "Epoch 4: val_accuracy improved from 0.43114 to 0.46462, saving model to /content/drive/MyDrive/israel-palestine/best_model1.hdf5\n",
            "350/350 [==============================] - 99s 284ms/step - loss: 1.1170 - accuracy: 0.5314 - val_loss: 1.2317 - val_accuracy: 0.4646\n",
            "Epoch 5/7\n",
            "350/350 [==============================] - ETA: 0s - loss: 0.9727 - accuracy: 0.6197\n",
            "Epoch 5: val_accuracy improved from 0.46462 to 0.46716, saving model to /content/drive/MyDrive/israel-palestine/best_model1.hdf5\n",
            "350/350 [==============================] - 101s 288ms/step - loss: 0.9727 - accuracy: 0.6197 - val_loss: 1.2913 - val_accuracy: 0.4672\n",
            "Epoch 6/7\n",
            "350/350 [==============================] - ETA: 0s - loss: 0.8086 - accuracy: 0.7127\n",
            "Epoch 6: val_accuracy improved from 0.46716 to 0.47071, saving model to /content/drive/MyDrive/israel-palestine/best_model1.hdf5\n",
            "350/350 [==============================] - 96s 273ms/step - loss: 0.8086 - accuracy: 0.7127 - val_loss: 1.3683 - val_accuracy: 0.4707\n",
            "Epoch 7/7\n",
            "350/350 [==============================] - ETA: 0s - loss: 0.6452 - accuracy: 0.7793\n",
            "Epoch 7: val_accuracy did not improve from 0.47071\n",
            "350/350 [==============================] - 92s 263ms/step - loss: 0.6452 - accuracy: 0.7793 - val_loss: 1.5196 - val_accuracy: 0.4616\n"
          ]
        }
      ]
    },
    {
      "cell_type": "code",
      "source": [
        "import matplotlib.pyplot as plt"
      ],
      "metadata": {
        "id": "2FOK-Wr8ZCiL"
      },
      "execution_count": null,
      "outputs": []
    },
    {
      "cell_type": "code",
      "source": [
        "plt.plot(history.history[\"loss\"])\n"
      ],
      "metadata": {
        "id": "eGBNvuc_jsT3",
        "colab": {
          "base_uri": "https://localhost:8080/",
          "height": 448
        },
        "outputId": "812d3531-a054-4746-cc9a-ad15f569c6e5"
      },
      "execution_count": null,
      "outputs": [
        {
          "output_type": "execute_result",
          "data": {
            "text/plain": [
              "[<matplotlib.lines.Line2D at 0x7bf2da9b7550>]"
            ]
          },
          "metadata": {},
          "execution_count": 30
        },
        {
          "output_type": "display_data",
          "data": {
            "text/plain": [
              "<Figure size 640x480 with 1 Axes>"
            ],
            "image/png": "[encoded data removed]"
          },
          "metadata": {}
        }
      ]
    },
    {
      "cell_type": "code",
      "source": [
        "# Make predictions on new data\n",
        "text = pd.Series([\"I love palestine\"])\n",
        "text = text.apply(preprocess_text)\n",
        "inputs = tokenizer(text.tolist(), padding=True, truncation=True, max_length=60, return_tensors=\"tf\")\n",
        "inputs = pad_sequences(inputs['input_ids'], maxlen=60, padding='post')\n",
        "predictions = model.predict(inputs)\n",
        "print(predictions)"
      ],
      "metadata": {
        "id": "LKgzUZbx32Y_",
        "colab": {
          "base_uri": "https://localhost:8080/"
        },
        "outputId": "ff4d63f2-c958-4ed1-f9e6-b509d4c8f45f"
      },
      "execution_count": null,
      "outputs": [
        {
          "output_type": "stream",
          "name": "stdout",
          "text": [
            "1/1 [==============================] - 0s 413ms/step\n",
            "[[0.04632448 0.91198134 0.02759698 0.01159659 0.00250059]]\n"
          ]
        }
      ]
    },
    {
      "cell_type": "code",
      "source": [
        "plt.plot(history.history[\"accuracy\"])"
      ],
      "metadata": {
        "id": "8ENg7SlmkTyW",
        "colab": {
          "base_uri": "https://localhost:8080/",
          "height": 453
        },
        "outputId": "d86701b6-de21-430e-b394-b9990216b673"
      },
      "execution_count": null,
      "outputs": [
        {
          "output_type": "execute_result",
          "data": {
            "text/plain": [
              "[<matplotlib.lines.Line2D at 0x7bf320407a90>]"
            ]
          },
          "metadata": {},
          "execution_count": 32
        },
        {
          "output_type": "display_data",
          "data": {
            "text/plain": [
              "<Figure size 640x480 with 1 Axes>"
            ],
            "image/png": "[encoded data removed]"
          },
          "metadata": {}
        }
      ]
    },
    {
      "cell_type": "code",
      "source": [
        "\n",
        "from tensorflow.keras.models import load_model\n",
        "from transformers import AutoTokenizer\n",
        "\n",
        "\n",
        "# Load the pre-trained model\n",
        "model = load_model(\"/content/drive/MyDrive/israel-palestine/best_model1.hdf5\")\n",
        "\n",
        "# Load the tokenizer\n",
        "tokenizer = AutoTokenizer.from_pretrained(\"bucketresearch/politicalBiasBERT\")\n",
        "\n",
        "# Load the news data\n",
        "news_df = pd.read_csv(\"/content/drive/MyDrive/israel-palestine/news_data.csv\")\n",
        "\n",
        "# Define stopwords\n",
        "stop_words = set(nltk.corpus.stopwords.words('english'))\n",
        "\n",
        "# Define preprocessing function\n",
        "def preprocess_text(text):\n",
        "    text = text.lower()\n",
        "    text = text.translate(str.maketrans('', '', string.punctuation))\n",
        "    tokens = nltk.word_tokenize(text)\n",
        "    filtered_tokens = [word for word in tokens if word not in stop_words]\n",
        "    return ' '.join(filtered_tokens)\n",
        "\n",
        "# Preprocess the news data\n",
        "news_df['processed_headline'] = news_df['headline'].apply(preprocess_text)\n",
        "news_df['processed_description'] = news_df['description'].apply(preprocess_text)\n",
        "\n",
        "# Tokenize and pad the preprocessed text\n",
        "def tokenize_data(data):\n",
        "    return tokenizer(data, padding=True, truncation=True, max_length=60)\n",
        "\n",
        "headline_encodings = tokenize_data(news_df['processed_headline'].tolist())\n",
        "description_encodings = tokenize_data(news_df['processed_description'].tolist())\n",
        "\n",
        "headline_sequences = pad_sequences(headline_encodings['input_ids'], maxlen=60, padding='post')\n",
        "description_sequences = pad_sequences(description_encodings['input_ids'], maxlen=60, padding='post')\n",
        "\n",
        "# Predict labels for each news item\n",
        "headline_predictions = model.predict(headline_sequences)\n",
        "description_predictions = model.predict(description_sequences)\n",
        "\n",
        "# Convert predictions to labels\n",
        "def get_label(prediction):\n",
        "    return np.argmax(prediction)\n",
        "\n",
        "news_df['headline_label'] = [get_label(prediction) for prediction in headline_predictions]\n",
        "news_df['description_label'] = [get_label(prediction) for prediction in description_predictions]\n",
        "\n",
        "# Count occurrences of each label for headlines\n",
        "headline_label_counts = news_df['headline_label'].value_counts().to_dict()\n",
        "\n",
        "# Count occurrences of each label for descriptions\n",
        "description_label_counts = news_df['description_label'].value_counts().to_dict()\n",
        "\n",
        "# Define label mapping\n",
        "label_mapping = {\n",
        "    0: 'neutral',\n",
        "    1: 'pro-Palestine',\n",
        "    2: 'pro-Israel',\n",
        "    3: 'inquisitive',\n",
        "    4: 'indifferent'\n",
        "}\n",
        "\n",
        "# Display results for headlines\n",
        "print(\"Headline :\")\n",
        "for label, count in headline_label_counts.items():\n",
        "    print(f\"{label_mapping[label]}: {count}\")\n",
        "\n",
        "# Display results for descriptions\n",
        "print(\"\\nDescription:\")\n",
        "for label, count in description_label_counts.items():\n",
        "    print(f\"{label_mapping[label]}: {count}\")"
      ],
      "metadata": {
        "colab": {
          "base_uri": "https://localhost:8080/"
        },
        "id": "I05TDBtr2DVY",
        "outputId": "729230f6-adfd-45e3-d98d-54878fc33b94"
      },
      "execution_count": null,
      "outputs": [
        {
          "output_type": "stream",
          "name": "stderr",
          "text": [
            "/usr/local/lib/python3.10/dist-packages/huggingface_hub/file_download.py:1132: FutureWarning: `resume_download` is deprecated and will be removed in version 1.0.0. Downloads always resume when possible. If you want to force a new download, use `force_download=True`.\n",
            "  warnings.warn(\n"
          ]
        },
        {
          "output_type": "stream",
          "name": "stdout",
          "text": [
            "105/105 [==============================] - 2s 6ms/step\n",
            "105/105 [==============================] - 1s 6ms/step\n",
            "Headline :\n",
            "pro-Palestine: 1654\n",
            "neutral: 1452\n",
            "inquisitive: 154\n",
            "pro-Israel: 78\n",
            "\n",
            "Description:\n",
            "pro-Palestine: 1610\n",
            "neutral: 1394\n",
            "inquisitive: 175\n",
            "pro-Israel: 159\n"
          ]
        }
      ]
    }
  ]
}